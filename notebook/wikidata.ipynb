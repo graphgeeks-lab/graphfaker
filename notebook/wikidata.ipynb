{
 "cells": [
  {
   "cell_type": "code",
   "execution_count": 1,
   "metadata": {},
   "outputs": [],
   "source": [
    "import pandas as pd\n",
    "import SPARQLWrapper as sw"
   ]
  },
  {
   "cell_type": "code",
   "execution_count": 2,
   "metadata": {},
   "outputs": [
    {
     "ename": "ModuleNotFoundError",
     "evalue": "No module named 'requests'",
     "output_type": "error",
     "traceback": [
      "\u001b[31m---------------------------------------------------------------------------\u001b[39m",
      "\u001b[31mModuleNotFoundError\u001b[39m                       Traceback (most recent call last)",
      "\u001b[36mCell\u001b[39m\u001b[36m \u001b[39m\u001b[32mIn[2]\u001b[39m\u001b[32m, line 1\u001b[39m\n\u001b[32m----> \u001b[39m\u001b[32m1\u001b[39m \u001b[38;5;28;01mimport\u001b[39;00m\u001b[38;5;250m \u001b[39m\u001b[34;01mrequests\u001b[39;00m\n",
      "\u001b[31mModuleNotFoundError\u001b[39m: No module named 'requests'"
     ]
    }
   ],
   "source": [
    "import requests"
   ]
  },
  {
   "cell_type": "code",
   "execution_count": 3,
   "metadata": {},
   "outputs": [],
   "source": [
    "query = \"\"\"\n",
    "SELECT ?city ?cityLabel ?location ?locationLabel ?founding_date\n",
    "WHERE {\n",
    "  ?city wdt:P31/wdt:P279* wd:Q515.\n",
    "  ?city wdt:P17 wd:Q30.\n",
    "  ?city wdt:P625 ?location.\n",
    "  ?city wdt:P571 ?founding_date.\n",
    "  SERVICE wikibase:label { bd:serviceParam wikibase:language \"en\". }\n",
    "}\n",
    "\"\"\""
   ]
  },
  {
   "cell_type": "code",
   "execution_count": 5,
   "metadata": {},
   "outputs": [],
   "source": [
    "import sys\n",
    "import pandas as pd\n",
    "from typing import List, Dict\n",
    "from SPARQLWrapper import SPARQLWrapper, JSON\n",
    "\n",
    "class WikiDataQueryResults:\n",
    "    \"\"\"\n",
    "    A class that can be used to query data from Wikidata using SPARQL and return the results as a Pandas DataFrame or a list\n",
    "    of values for a specific key.\n",
    "    \"\"\"\n",
    "    def __init__(self, query: str):\n",
    "        \"\"\"\n",
    "        Initializes the WikiDataQueryResults object with a SPARQL query string.\n",
    "        :param query: A SPARQL query string.\n",
    "        \"\"\"\n",
    "        self.user_agent = \"WDQS-example Python/%s.%s\" % (sys.version_info[0], sys.version_info[1])\n",
    "        self.endpoint_url = \"https://query.wikidata.org/sparql\"\n",
    "        self.sparql = SPARQLWrapper(self.endpoint_url, agent=self.user_agent)\n",
    "        self.sparql.setQuery(query)\n",
    "        self.sparql.setReturnFormat(JSON)\n",
    "\n",
    "    def __transform2dicts(self, results: List[Dict]) -> List[Dict]:\n",
    "        \"\"\"\n",
    "        Helper function to transform SPARQL query results into a list of dictionaries.\n",
    "        :param results: A list of query results returned by SPARQLWrapper.\n",
    "        :return: A list of dictionaries, where each dictionary represents a result row and has keys corresponding to the\n",
    "        variables in the SPARQL SELECT clause.\n",
    "        \"\"\"\n",
    "        new_results = []\n",
    "        for result in results:\n",
    "            new_result = {}\n",
    "            for key in result:\n",
    "                new_result[key] = result[key]['value']\n",
    "            new_results.append(new_result)\n",
    "        return new_results\n",
    "\n",
    "    def _load(self) -> List[Dict]:\n",
    "        \"\"\"\n",
    "        Helper function that loads the data from Wikidata using the SPARQLWrapper library, and transforms the results into\n",
    "        a list of dictionaries.\n",
    "        :return: A list of dictionaries, where each dictionary represents a result row and has keys corresponding to the\n",
    "        variables in the SPARQL SELECT clause.\n",
    "        \"\"\"\n",
    "        results = self.sparql.queryAndConvert()['results']['bindings']\n",
    "        results = self.__transform2dicts(results)\n",
    "        return results\n",
    "\n",
    "    def load_as_dataframe(self) -> pd.DataFrame:\n",
    "        \"\"\"\n",
    "        Executes the SPARQL query and returns the results as a Pandas DataFrame.\n",
    "        :return: A Pandas DataFrame representing the query results.\n",
    "        \"\"\"\n",
    "        results = self._load()\n",
    "        return pd.DataFrame.from_dict(results)"
   ]
  },
  {
   "cell_type": "code",
   "execution_count": 6,
   "metadata": {},
   "outputs": [],
   "source": [
    "data_extracter = WikiDataQueryResults(query)"
   ]
  },
  {
   "cell_type": "code",
   "execution_count": 7,
   "metadata": {},
   "outputs": [
    {
     "data": {
      "text/plain": [
       "<__main__.WikiDataQueryResults at 0x116f6134320>"
      ]
     },
     "execution_count": 7,
     "metadata": {},
     "output_type": "execute_result"
    }
   ],
   "source": [
    "data_extracter"
   ]
  },
  {
   "cell_type": "code",
   "execution_count": 8,
   "metadata": {},
   "outputs": [
    {
     "name": "stdout",
     "output_type": "stream",
     "text": [
      "                                    city         founding_date  \\\n",
      "0     http://www.wikidata.org/entity/Q62  1776-06-29T00:00:00Z   \n",
      "1     http://www.wikidata.org/entity/Q65  1781-09-04T00:00:00Z   \n",
      "2  http://www.wikidata.org/entity/Q16552  1769-07-16T00:00:00Z   \n",
      "3  http://www.wikidata.org/entity/Q16553  1777-11-29T00:00:00Z   \n",
      "4  http://www.wikidata.org/entity/Q16739  1888-01-01T00:00:00Z   \n",
      "\n",
      "                             location      cityLabel  \\\n",
      "0        Point(-122.419444444 37.775)  San Francisco   \n",
      "1          Point(-118.24368 34.05223)    Los Angeles   \n",
      "2             Point(-117.1625 32.715)      San Diego   \n",
      "3  Point(-121.872777777 37.304166666)       San Jose   \n",
      "4  Point(-118.195555555 33.768055555)     Long Beach   \n",
      "\n",
      "                        locationLabel  \n",
      "0        Point(-122.419444444 37.775)  \n",
      "1          Point(-118.24368 34.05223)  \n",
      "2             Point(-117.1625 32.715)  \n",
      "3  Point(-121.872777777 37.304166666)  \n",
      "4  Point(-118.195555555 33.768055555)  \n"
     ]
    }
   ],
   "source": [
    "df = data_extracter.load_as_dataframe()\n",
    "print(df.head())"
   ]
  },
  {
   "cell_type": "code",
   "execution_count": 12,
   "metadata": {},
   "outputs": [],
   "source": [
    "from faker import Faker\n",
    "fake = Faker()"
   ]
  },
  {
   "cell_type": "code",
   "execution_count": 16,
   "metadata": {},
   "outputs": [
    {
     "data": {
      "text/plain": [
       "'Kristy Mcguire'"
      ]
     },
     "execution_count": 16,
     "metadata": {},
     "output_type": "execute_result"
    }
   ],
   "source": [
    "fake.name()"
   ]
  },
  {
   "cell_type": "code",
   "execution_count": 36,
   "metadata": {},
   "outputs": [
    {
     "data": {
      "text/plain": [
       "'Jones-Johnson'"
      ]
     },
     "execution_count": 36,
     "metadata": {},
     "output_type": "execute_result"
    }
   ],
   "source": [
    "fake.company()\n"
   ]
  },
  {
   "cell_type": "code",
   "execution_count": 7,
   "metadata": {},
   "outputs": [],
   "source": [
    "import networkx as nx\n",
    "import json\n",
    "import random\n",
    "from faker import Faker\n",
    "\n"
   ]
  },
  {
   "cell_type": "code",
   "execution_count": 8,
   "metadata": {},
   "outputs": [],
   "source": [
    "query = \"\"\"\n",
    "        SELECT ?ceo ?ceoLabel ?company ?companyLabel WHERE {\n",
    "          ?company wdt:P169 ?ceo.\n",
    "          SERVICE wikibase:label { bd:serviceParam wikibase:language \"en\". }\n",
    "        }\n",
    "        LIMIT 20\n",
    "        \"\"\"\n"
   ]
  },
  {
   "cell_type": "code",
   "execution_count": null,
   "metadata": {},
   "outputs": [],
   "source": []
  }
 ],
 "metadata": {
  "kernelspec": {
   "display_name": ".venv",
   "language": "python",
   "name": "python3"
  },
  "language_info": {
   "codemirror_mode": {
    "name": "ipython",
    "version": 3
   },
   "file_extension": ".py",
   "mimetype": "text/x-python",
   "name": "python",
   "nbconvert_exporter": "python",
   "pygments_lexer": "ipython3",
   "version": "3.12.3"
  }
 },
 "nbformat": 4,
 "nbformat_minor": 2
}
